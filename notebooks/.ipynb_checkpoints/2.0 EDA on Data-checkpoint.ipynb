{
 "cells": [
  {
   "cell_type": "markdown",
   "metadata": {},
   "source": [
    "<div style=\"text-align: right\"> Tommy Evans-Barton </div>\n",
    "<div style=\"text-align: right\"> GM Draft Analysis </div>\n",
    "\n",
    "# EDA of Combine, Draft, and Executive NFL Data\n",
    "\n",
    "The purpose of this notebook is to do a brief analysis of the **raw** data that I will be using in the main report, along with some justifications for future cleaning approaches. Most of this work will be academic, and only useful for deeper dives into the work of this project. All data courtesy of Pro Football Reference."
   ]
  },
  {
   "cell_type": "code",
   "execution_count": 17,
   "metadata": {},
   "outputs": [],
   "source": [
    "import pandas as pd\n",
    "import numpy as np\n",
    "import os\n",
    "import json\n",
    "import requests\n",
    "import urllib\n",
    "import re\n",
    "import sys\n",
    "from glob import glob"
   ]
  },
  {
   "cell_type": "code",
   "execution_count": 18,
   "metadata": {},
   "outputs": [],
   "source": [
    "TOP_PATH = os.environ['PWD']"
   ]
  },
  {
   "cell_type": "code",
   "execution_count": 30,
   "metadata": {},
   "outputs": [],
   "source": [
    "%load_ext autoreload\n",
    "%autoreload 2"
   ]
  },
  {
   "cell_type": "code",
   "execution_count": 20,
   "metadata": {},
   "outputs": [],
   "source": [
    "sys.path.append(TOP_PATH + '/config')\n",
    "sys.path.append(TOP_PATH + '/src')\n",
    "sys.path.append(TOP_PATH + '/src/data')\n",
    "sys.path.append(TOP_PATH + '/src/processing')"
   ]
  },
  {
   "cell_type": "code",
   "execution_count": 21,
   "metadata": {},
   "outputs": [],
   "source": [
    "import etl\n",
    "import processing"
   ]
  },
  {
   "cell_type": "code",
   "execution_count": 22,
   "metadata": {},
   "outputs": [],
   "source": [
    "# Download data if need be\n",
    "# with open(TOP_PATH + '/config/data-params.json') as fh:\n",
    "#     data_cfg = json.load(fh)\n",
    "# etl.get_data(**data_cfg)"
   ]
  },
  {
   "cell_type": "markdown",
   "metadata": {},
   "source": [
    "## Draft Data\n",
    "Exploring the draft data, using 2014 data as a proxy."
   ]
  },
  {
   "cell_type": "code",
   "execution_count": 27,
   "metadata": {},
   "outputs": [],
   "source": [
    "raw_draft_2014 = pd.read_csv(TOP_PATH + '/data/raw/DRAFT_2014.csv')"
   ]
  },
  {
   "cell_type": "markdown",
   "metadata": {},
   "source": [
    "### Checking Typing of Draft Data\n",
    "Based on the 2014 data, it seems that the typing of the variables is initially reasonable."
   ]
  },
  {
   "cell_type": "code",
   "execution_count": 29,
   "metadata": {},
   "outputs": [
    {
     "data": {
      "text/plain": [
       "Rnd                int64\n",
       "Pick               int64\n",
       "Tm                object\n",
       "Player            object\n",
       "Pos               object\n",
       "Age                int64\n",
       "To               float64\n",
       "AP1                int64\n",
       "PB                 int64\n",
       "St                 int64\n",
       "G                float64\n",
       "Passing Cmp      float64\n",
       "Passing Att      float64\n",
       "Passing Yds      float64\n",
       "Passing TD       float64\n",
       "Passing Int      float64\n",
       "Rushing Att      float64\n",
       "Rushing Yds      float64\n",
       "Rushing TD       float64\n",
       "Receiving Rec    float64\n",
       "Receiving Yds    float64\n",
       "Receiving TD     float64\n",
       "Solo             float64\n",
       "Int              float64\n",
       "Sk               float64\n",
       "College/Univ      object\n",
       "YEAR               int64\n",
       "dtype: object"
      ]
     },
     "execution_count": 29,
     "metadata": {},
     "output_type": "execute_result"
    }
   ],
   "source": [
    "raw_draft_2014.dtypes"
   ]
  },
  {
   "cell_type": "markdown",
   "metadata": {},
   "source": [
    "### Checking Missingness of Draft Data\n",
    "\n",
    "It seems that most of the missingness in the draft data is in the defensive stats (`Solo` : *42.2%*, `Int` : *78.5%*, and `Sk` : *71.5%*)."
   ]
  },
  {
   "cell_type": "code",
   "execution_count": 33,
   "metadata": {},
   "outputs": [
    {
     "data": {
      "text/plain": [
       "Rnd              0.000000\n",
       "Pick             0.000000\n",
       "Tm               0.000000\n",
       "Player           0.000000\n",
       "Pos              0.000000\n",
       "Age              0.000000\n",
       "To               0.015625\n",
       "AP1              0.000000\n",
       "PB               0.000000\n",
       "St               0.000000\n",
       "G                0.015625\n",
       "Passing Cmp      0.015625\n",
       "Passing Att      0.015625\n",
       "Passing Yds      0.015625\n",
       "Passing TD       0.015625\n",
       "Passing Int      0.015625\n",
       "Rushing Att      0.015625\n",
       "Rushing Yds      0.015625\n",
       "Rushing TD       0.015625\n",
       "Receiving Rec    0.015625\n",
       "Receiving Yds    0.015625\n",
       "Receiving TD     0.015625\n",
       "Solo             0.421875\n",
       "Int              0.785156\n",
       "Sk               0.714844\n",
       "College/Univ     0.000000\n",
       "YEAR             0.000000\n",
       "dtype: float64"
      ]
     },
     "execution_count": 33,
     "metadata": {},
     "output_type": "execute_result"
    }
   ],
   "source": [
    "raw_draft_2014.isnull().mean()"
   ]
  },
  {
   "cell_type": "code",
   "execution_count": 72,
   "metadata": {},
   "outputs": [
    {
     "data": {
      "text/plain": [
       "Rnd                0\n",
       "Pick               0\n",
       "Tm                 0\n",
       "Player             0\n",
       "Pos                0\n",
       "Age                0\n",
       "To                 4\n",
       "AP1                0\n",
       "PB                 0\n",
       "St                 0\n",
       "G                  4\n",
       "Passing Cmp        4\n",
       "Passing Att        4\n",
       "Passing Yds        4\n",
       "Passing TD         4\n",
       "Passing Int        4\n",
       "Rushing Att        4\n",
       "Rushing Yds        4\n",
       "Rushing TD         4\n",
       "Receiving Rec      4\n",
       "Receiving Yds      4\n",
       "Receiving TD       4\n",
       "Solo             108\n",
       "Int              201\n",
       "Sk               183\n",
       "College/Univ       0\n",
       "YEAR               0\n",
       "dtype: int64"
      ]
     },
     "execution_count": 72,
     "metadata": {},
     "output_type": "execute_result"
    }
   ],
   "source": [
    "raw_draft_2014.isnull().sum()"
   ]
  },
  {
   "cell_type": "markdown",
   "metadata": {},
   "source": [
    "As can be seen below, these missing entries are fairly spread out position-by-position, and with that knowledge, along with the reliability of our data source and the nature of these features, it seems reasonable to *treat missing entries in these statistical fields as equivalent to zero*."
   ]
  },
  {
   "cell_type": "code",
   "execution_count": 63,
   "metadata": {
    "scrolled": false
   },
   "outputs": [
    {
     "data": {
      "text/html": [
       "<div>\n",
       "<style scoped>\n",
       "    .dataframe tbody tr th:only-of-type {\n",
       "        vertical-align: middle;\n",
       "    }\n",
       "\n",
       "    .dataframe tbody tr th {\n",
       "        vertical-align: top;\n",
       "    }\n",
       "\n",
       "    .dataframe thead th {\n",
       "        text-align: right;\n",
       "    }\n",
       "</style>\n",
       "<table border=\"1\" class=\"dataframe\">\n",
       "  <thead>\n",
       "    <tr style=\"text-align: right;\">\n",
       "      <th></th>\n",
       "      <th>Solo</th>\n",
       "      <th>Int</th>\n",
       "      <th>Sk</th>\n",
       "    </tr>\n",
       "    <tr>\n",
       "      <th>Pos</th>\n",
       "      <th></th>\n",
       "      <th></th>\n",
       "      <th></th>\n",
       "    </tr>\n",
       "  </thead>\n",
       "  <tbody>\n",
       "    <tr>\n",
       "      <td>C</td>\n",
       "      <td>5.0</td>\n",
       "      <td>6.0</td>\n",
       "      <td>6.0</td>\n",
       "    </tr>\n",
       "    <tr>\n",
       "      <td>DB</td>\n",
       "      <td>4.0</td>\n",
       "      <td>21.0</td>\n",
       "      <td>30.0</td>\n",
       "    </tr>\n",
       "    <tr>\n",
       "      <td>DE</td>\n",
       "      <td>3.0</td>\n",
       "      <td>13.0</td>\n",
       "      <td>7.0</td>\n",
       "    </tr>\n",
       "    <tr>\n",
       "      <td>DT</td>\n",
       "      <td>2.0</td>\n",
       "      <td>18.0</td>\n",
       "      <td>6.0</td>\n",
       "    </tr>\n",
       "    <tr>\n",
       "      <td>FB</td>\n",
       "      <td>1.0</td>\n",
       "      <td>2.0</td>\n",
       "      <td>2.0</td>\n",
       "    </tr>\n",
       "    <tr>\n",
       "      <td>G</td>\n",
       "      <td>7.0</td>\n",
       "      <td>9.0</td>\n",
       "      <td>9.0</td>\n",
       "    </tr>\n",
       "    <tr>\n",
       "      <td>K</td>\n",
       "      <td>2.0</td>\n",
       "      <td>2.0</td>\n",
       "      <td>2.0</td>\n",
       "    </tr>\n",
       "    <tr>\n",
       "      <td>LB</td>\n",
       "      <td>4.0</td>\n",
       "      <td>22.0</td>\n",
       "      <td>13.0</td>\n",
       "    </tr>\n",
       "    <tr>\n",
       "      <td>OL</td>\n",
       "      <td>17.0</td>\n",
       "      <td>19.0</td>\n",
       "      <td>19.0</td>\n",
       "    </tr>\n",
       "    <tr>\n",
       "      <td>P</td>\n",
       "      <td>0.0</td>\n",
       "      <td>1.0</td>\n",
       "      <td>1.0</td>\n",
       "    </tr>\n",
       "    <tr>\n",
       "      <td>QB</td>\n",
       "      <td>13.0</td>\n",
       "      <td>14.0</td>\n",
       "      <td>14.0</td>\n",
       "    </tr>\n",
       "    <tr>\n",
       "      <td>RB</td>\n",
       "      <td>12.0</td>\n",
       "      <td>19.0</td>\n",
       "      <td>19.0</td>\n",
       "    </tr>\n",
       "    <tr>\n",
       "      <td>T</td>\n",
       "      <td>11.0</td>\n",
       "      <td>11.0</td>\n",
       "      <td>11.0</td>\n",
       "    </tr>\n",
       "    <tr>\n",
       "      <td>TE</td>\n",
       "      <td>9.0</td>\n",
       "      <td>10.0</td>\n",
       "      <td>10.0</td>\n",
       "    </tr>\n",
       "    <tr>\n",
       "      <td>WR</td>\n",
       "      <td>18.0</td>\n",
       "      <td>34.0</td>\n",
       "      <td>34.0</td>\n",
       "    </tr>\n",
       "  </tbody>\n",
       "</table>\n",
       "</div>"
      ],
      "text/plain": [
       "     Solo   Int    Sk\n",
       "Pos                  \n",
       "C     5.0   6.0   6.0\n",
       "DB    4.0  21.0  30.0\n",
       "DE    3.0  13.0   7.0\n",
       "DT    2.0  18.0   6.0\n",
       "FB    1.0   2.0   2.0\n",
       "G     7.0   9.0   9.0\n",
       "K     2.0   2.0   2.0\n",
       "LB    4.0  22.0  13.0\n",
       "OL   17.0  19.0  19.0\n",
       "P     0.0   1.0   1.0\n",
       "QB   13.0  14.0  14.0\n",
       "RB   12.0  19.0  19.0\n",
       "T    11.0  11.0  11.0\n",
       "TE    9.0  10.0  10.0\n",
       "WR   18.0  34.0  34.0"
      ]
     },
     "execution_count": 63,
     "metadata": {},
     "output_type": "execute_result"
    }
   ],
   "source": [
    "raw_draft_2014[['Pos', 'Solo', 'Int', 'Sk']].groupby('Pos').agg(lambda x : x.isnull().sum())"
   ]
  },
  {
   "cell_type": "markdown",
   "metadata": {},
   "source": [
    "The other missing fields, of which there are 4, are, upon closer inspection, all the same people. These players seem to have never played a game at the NFL level, and so the statistical entries can be substituted to zero, while `To` can be left as Null, in order to indicate their lack of NFL experience/career length."
   ]
  },
  {
   "cell_type": "code",
   "execution_count": 70,
   "metadata": {},
   "outputs": [
    {
     "data": {
      "text/html": [
       "<div>\n",
       "<style scoped>\n",
       "    .dataframe tbody tr th:only-of-type {\n",
       "        vertical-align: middle;\n",
       "    }\n",
       "\n",
       "    .dataframe tbody tr th {\n",
       "        vertical-align: top;\n",
       "    }\n",
       "\n",
       "    .dataframe thead th {\n",
       "        text-align: right;\n",
       "    }\n",
       "</style>\n",
       "<table border=\"1\" class=\"dataframe\">\n",
       "  <thead>\n",
       "    <tr style=\"text-align: right;\">\n",
       "      <th></th>\n",
       "      <th>212</th>\n",
       "      <th>225</th>\n",
       "      <th>243</th>\n",
       "      <th>251</th>\n",
       "    </tr>\n",
       "  </thead>\n",
       "  <tbody>\n",
       "    <tr>\n",
       "      <td>Rnd</td>\n",
       "      <td>6</td>\n",
       "      <td>7</td>\n",
       "      <td>7</td>\n",
       "      <td>7</td>\n",
       "    </tr>\n",
       "    <tr>\n",
       "      <td>Pick</td>\n",
       "      <td>213</td>\n",
       "      <td>226</td>\n",
       "      <td>244</td>\n",
       "      <td>252</td>\n",
       "    </tr>\n",
       "    <tr>\n",
       "      <td>Tm</td>\n",
       "      <td>NYJ</td>\n",
       "      <td>STL</td>\n",
       "      <td>NWE</td>\n",
       "      <td>CIN</td>\n",
       "    </tr>\n",
       "    <tr>\n",
       "      <td>Player</td>\n",
       "      <td>Tajh Boyd</td>\n",
       "      <td>Mitchell Van Dyk</td>\n",
       "      <td>Jeremy Gallon</td>\n",
       "      <td>Lavelle Westbrooks</td>\n",
       "    </tr>\n",
       "    <tr>\n",
       "      <td>Pos</td>\n",
       "      <td>QB</td>\n",
       "      <td>OL</td>\n",
       "      <td>WR</td>\n",
       "      <td>DB</td>\n",
       "    </tr>\n",
       "    <tr>\n",
       "      <td>Age</td>\n",
       "      <td>23</td>\n",
       "      <td>23</td>\n",
       "      <td>24</td>\n",
       "      <td>22</td>\n",
       "    </tr>\n",
       "    <tr>\n",
       "      <td>To</td>\n",
       "      <td>NaN</td>\n",
       "      <td>NaN</td>\n",
       "      <td>NaN</td>\n",
       "      <td>NaN</td>\n",
       "    </tr>\n",
       "    <tr>\n",
       "      <td>AP1</td>\n",
       "      <td>0</td>\n",
       "      <td>0</td>\n",
       "      <td>0</td>\n",
       "      <td>0</td>\n",
       "    </tr>\n",
       "    <tr>\n",
       "      <td>PB</td>\n",
       "      <td>0</td>\n",
       "      <td>0</td>\n",
       "      <td>0</td>\n",
       "      <td>0</td>\n",
       "    </tr>\n",
       "    <tr>\n",
       "      <td>St</td>\n",
       "      <td>0</td>\n",
       "      <td>0</td>\n",
       "      <td>0</td>\n",
       "      <td>0</td>\n",
       "    </tr>\n",
       "    <tr>\n",
       "      <td>G</td>\n",
       "      <td>NaN</td>\n",
       "      <td>NaN</td>\n",
       "      <td>NaN</td>\n",
       "      <td>NaN</td>\n",
       "    </tr>\n",
       "    <tr>\n",
       "      <td>Passing Cmp</td>\n",
       "      <td>NaN</td>\n",
       "      <td>NaN</td>\n",
       "      <td>NaN</td>\n",
       "      <td>NaN</td>\n",
       "    </tr>\n",
       "    <tr>\n",
       "      <td>Passing Att</td>\n",
       "      <td>NaN</td>\n",
       "      <td>NaN</td>\n",
       "      <td>NaN</td>\n",
       "      <td>NaN</td>\n",
       "    </tr>\n",
       "    <tr>\n",
       "      <td>Passing Yds</td>\n",
       "      <td>NaN</td>\n",
       "      <td>NaN</td>\n",
       "      <td>NaN</td>\n",
       "      <td>NaN</td>\n",
       "    </tr>\n",
       "    <tr>\n",
       "      <td>Passing TD</td>\n",
       "      <td>NaN</td>\n",
       "      <td>NaN</td>\n",
       "      <td>NaN</td>\n",
       "      <td>NaN</td>\n",
       "    </tr>\n",
       "    <tr>\n",
       "      <td>Passing Int</td>\n",
       "      <td>NaN</td>\n",
       "      <td>NaN</td>\n",
       "      <td>NaN</td>\n",
       "      <td>NaN</td>\n",
       "    </tr>\n",
       "    <tr>\n",
       "      <td>Rushing Att</td>\n",
       "      <td>NaN</td>\n",
       "      <td>NaN</td>\n",
       "      <td>NaN</td>\n",
       "      <td>NaN</td>\n",
       "    </tr>\n",
       "    <tr>\n",
       "      <td>Rushing Yds</td>\n",
       "      <td>NaN</td>\n",
       "      <td>NaN</td>\n",
       "      <td>NaN</td>\n",
       "      <td>NaN</td>\n",
       "    </tr>\n",
       "    <tr>\n",
       "      <td>Rushing TD</td>\n",
       "      <td>NaN</td>\n",
       "      <td>NaN</td>\n",
       "      <td>NaN</td>\n",
       "      <td>NaN</td>\n",
       "    </tr>\n",
       "    <tr>\n",
       "      <td>Receiving Rec</td>\n",
       "      <td>NaN</td>\n",
       "      <td>NaN</td>\n",
       "      <td>NaN</td>\n",
       "      <td>NaN</td>\n",
       "    </tr>\n",
       "    <tr>\n",
       "      <td>Receiving Yds</td>\n",
       "      <td>NaN</td>\n",
       "      <td>NaN</td>\n",
       "      <td>NaN</td>\n",
       "      <td>NaN</td>\n",
       "    </tr>\n",
       "    <tr>\n",
       "      <td>Receiving TD</td>\n",
       "      <td>NaN</td>\n",
       "      <td>NaN</td>\n",
       "      <td>NaN</td>\n",
       "      <td>NaN</td>\n",
       "    </tr>\n",
       "    <tr>\n",
       "      <td>Solo</td>\n",
       "      <td>NaN</td>\n",
       "      <td>NaN</td>\n",
       "      <td>NaN</td>\n",
       "      <td>NaN</td>\n",
       "    </tr>\n",
       "    <tr>\n",
       "      <td>Int</td>\n",
       "      <td>NaN</td>\n",
       "      <td>NaN</td>\n",
       "      <td>NaN</td>\n",
       "      <td>NaN</td>\n",
       "    </tr>\n",
       "    <tr>\n",
       "      <td>Sk</td>\n",
       "      <td>NaN</td>\n",
       "      <td>NaN</td>\n",
       "      <td>NaN</td>\n",
       "      <td>NaN</td>\n",
       "    </tr>\n",
       "    <tr>\n",
       "      <td>College/Univ</td>\n",
       "      <td>Clemson</td>\n",
       "      <td>Portland St.</td>\n",
       "      <td>Michigan</td>\n",
       "      <td>Georgia Southern</td>\n",
       "    </tr>\n",
       "    <tr>\n",
       "      <td>YEAR</td>\n",
       "      <td>2014</td>\n",
       "      <td>2014</td>\n",
       "      <td>2014</td>\n",
       "      <td>2014</td>\n",
       "    </tr>\n",
       "  </tbody>\n",
       "</table>\n",
       "</div>"
      ],
      "text/plain": [
       "                     212               225            243                 251\n",
       "Rnd                    6                 7              7                   7\n",
       "Pick                 213               226            244                 252\n",
       "Tm                   NYJ               STL            NWE                 CIN\n",
       "Player         Tajh Boyd  Mitchell Van Dyk  Jeremy Gallon  Lavelle Westbrooks\n",
       "Pos                   QB                OL             WR                  DB\n",
       "Age                   23                23             24                  22\n",
       "To                   NaN               NaN            NaN                 NaN\n",
       "AP1                    0                 0              0                   0\n",
       "PB                     0                 0              0                   0\n",
       "St                     0                 0              0                   0\n",
       "G                    NaN               NaN            NaN                 NaN\n",
       "Passing Cmp          NaN               NaN            NaN                 NaN\n",
       "Passing Att          NaN               NaN            NaN                 NaN\n",
       "Passing Yds          NaN               NaN            NaN                 NaN\n",
       "Passing TD           NaN               NaN            NaN                 NaN\n",
       "Passing Int          NaN               NaN            NaN                 NaN\n",
       "Rushing Att          NaN               NaN            NaN                 NaN\n",
       "Rushing Yds          NaN               NaN            NaN                 NaN\n",
       "Rushing TD           NaN               NaN            NaN                 NaN\n",
       "Receiving Rec        NaN               NaN            NaN                 NaN\n",
       "Receiving Yds        NaN               NaN            NaN                 NaN\n",
       "Receiving TD         NaN               NaN            NaN                 NaN\n",
       "Solo                 NaN               NaN            NaN                 NaN\n",
       "Int                  NaN               NaN            NaN                 NaN\n",
       "Sk                   NaN               NaN            NaN                 NaN\n",
       "College/Univ     Clemson      Portland St.       Michigan    Georgia Southern\n",
       "YEAR                2014              2014           2014                2014"
      ]
     },
     "execution_count": 70,
     "metadata": {},
     "output_type": "execute_result"
    }
   ],
   "source": [
    "raw_draft_2014[raw_draft_2014['To'].isnull()].T"
   ]
  },
  {
   "cell_type": "markdown",
   "metadata": {},
   "source": [
    "## Combine Data\n",
    "Exploring the Combine data, using 2014 as a proxy."
   ]
  },
  {
   "cell_type": "code",
   "execution_count": 85,
   "metadata": {},
   "outputs": [],
   "source": [
    "raw_combine_2014 = pd.read_csv(TOP_PATH + '/data/raw/COMBINE_2014.csv')"
   ]
  },
  {
   "cell_type": "markdown",
   "metadata": {},
   "source": [
    "### Checking Typing of  Combine Data\n",
    "\n",
    "Below are the variable types of the features in the Combine datasets. Only one will need changing, as the `Ht` (Height) of each player is currently a string with format 'Ft-In', which ought to be a numerical value (integer of height in inches)."
   ]
  },
  {
   "cell_type": "code",
   "execution_count": 87,
   "metadata": {},
   "outputs": [
    {
     "data": {
      "text/plain": [
       "Player         object\n",
       "Pos            object\n",
       "School         object\n",
       "Ht             object\n",
       "Wt              int64\n",
       "40yd          float64\n",
       "Vertical      float64\n",
       "Bench         float64\n",
       "Broad Jump    float64\n",
       "3Cone         float64\n",
       "Shuttle       float64\n",
       "dtype: object"
      ]
     },
     "execution_count": 87,
     "metadata": {},
     "output_type": "execute_result"
    }
   ],
   "source": [
    "raw_combine_2014.dtypes"
   ]
  },
  {
   "cell_type": "code",
   "execution_count": 88,
   "metadata": {},
   "outputs": [
    {
     "name": "stdout",
     "output_type": "stream",
     "text": [
      "6-1\n"
     ]
    }
   ],
   "source": [
    "print(raw_combine_2014.Ht[0])"
   ]
  },
  {
   "cell_type": "markdown",
   "metadata": {},
   "source": [
    "### Missingness of Combine Data\n",
    "Initially the missingness of the data seems to track with real life experience; players often opt out of athletic testing or parts of athletic testing, but always weigh in. Each statistical feature was looked at in greater detail, to see if there was some form of 'placeholder stat' for null entries, but these seemed to be absent from this data set."
   ]
  },
  {
   "cell_type": "code",
   "execution_count": 89,
   "metadata": {},
   "outputs": [
    {
     "data": {
      "text/plain": [
       "Player        0.000000\n",
       "Pos           0.000000\n",
       "School        0.000000\n",
       "Ht            0.000000\n",
       "Wt            0.000000\n",
       "40yd          0.021021\n",
       "Vertical      0.192192\n",
       "Bench         0.270270\n",
       "Broad Jump    0.213213\n",
       "3Cone         0.339339\n",
       "Shuttle       0.333333\n",
       "dtype: float64"
      ]
     },
     "execution_count": 89,
     "metadata": {},
     "output_type": "execute_result"
    }
   ],
   "source": [
    "raw_combine_2014.isnull().mean()"
   ]
  },
  {
   "cell_type": "markdown",
   "metadata": {},
   "source": [
    "Therefore, each of these nulls will be left, in order to indicate that the player did not participate in these drills."
   ]
  },
  {
   "cell_type": "markdown",
   "metadata": {},
   "source": [
    "## Executive Data"
   ]
  },
  {
   "cell_type": "code",
   "execution_count": 103,
   "metadata": {},
   "outputs": [],
   "source": [
    "raw_executives = pd.read_csv(TOP_PATH + '/data/raw/EXECUTIVES.csv')"
   ]
  },
  {
   "cell_type": "markdown",
   "metadata": {},
   "source": [
    "### Checking Typing of Executives Data\n",
    "\n",
    "The typing of the Executives data seems to be up to task, but it doesn't have a complete list of years they worked, which will be important for future work."
   ]
  },
  {
   "cell_type": "code",
   "execution_count": 105,
   "metadata": {},
   "outputs": [
    {
     "data": {
      "text/plain": [
       "Person    object\n",
       "Teams     object\n",
       "From       int64\n",
       "To         int64\n",
       "Titles    object\n",
       "dtype: object"
      ]
     },
     "execution_count": 105,
     "metadata": {},
     "output_type": "execute_result"
    }
   ],
   "source": [
    "raw_executives.dtypes"
   ]
  },
  {
   "cell_type": "markdown",
   "metadata": {},
   "source": [
    "### Checking Missingness of Executives Data\n",
    "The executives data is fairly complete"
   ]
  },
  {
   "cell_type": "code",
   "execution_count": 106,
   "metadata": {},
   "outputs": [
    {
     "data": {
      "text/plain": [
       "Person    0.0\n",
       "Teams     0.0\n",
       "From      0.0\n",
       "To        0.0\n",
       "Titles    0.0\n",
       "dtype: float64"
      ]
     },
     "execution_count": 106,
     "metadata": {},
     "output_type": "execute_result"
    }
   ],
   "source": [
    "raw_executives.isnull().mean()"
   ]
  },
  {
   "cell_type": "markdown",
   "metadata": {},
   "source": [
    "## Closing\n",
    "In closing, the data is fairly complete and comprehensive, and while there will be some alterations that are necessary, for the most part it makes for a nice group of datasets to work on."
   ]
  }
 ],
 "metadata": {
  "kernelspec": {
   "display_name": "Python 3",
   "language": "python",
   "name": "python3"
  },
  "language_info": {
   "codemirror_mode": {
    "name": "ipython",
    "version": 3
   },
   "file_extension": ".py",
   "mimetype": "text/x-python",
   "name": "python",
   "nbconvert_exporter": "python",
   "pygments_lexer": "ipython3",
   "version": "3.7.4"
  }
 },
 "nbformat": 4,
 "nbformat_minor": 2
}
