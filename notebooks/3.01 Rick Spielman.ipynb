{
 "cells": [
  {
   "cell_type": "markdown",
   "metadata": {},
   "source": [
    "<div style=\"text-align: right\"> Tommy Evans-Barton </div>\n",
    "<div style=\"text-align: right\"> GM Draft Analysis </div>\n",
    "\n",
    "# Analysis of Executive's Draft Data (Rick Spielman)"
   ]
  },
  {
   "cell_type": "code",
   "execution_count": 1,
   "metadata": {},
   "outputs": [],
   "source": [
    "import pandas as pd\n",
    "import numpy as np\n",
    "import matplotlib.pyplot as plt\n",
    "import os\n",
    "import requests\n",
    "import sys\n",
    "from glob import glob"
   ]
  },
  {
   "cell_type": "code",
   "execution_count": 2,
   "metadata": {},
   "outputs": [],
   "source": [
    "%load_ext autoreload\n",
    "%autoreload 2"
   ]
  },
  {
   "cell_type": "code",
   "execution_count": 3,
   "metadata": {},
   "outputs": [],
   "source": [
    "TOP_PATH = os.environ['PWD']"
   ]
  },
  {
   "cell_type": "code",
   "execution_count": 4,
   "metadata": {},
   "outputs": [],
   "source": [
    "sys.path.append(TOP_PATH + '/config')\n",
    "sys.path.append(TOP_PATH + '/src')\n",
    "sys.path.append(TOP_PATH + '/src/data')\n",
    "sys.path.append(TOP_PATH + '/src/processing')\n",
    "sys.path.append(TOP_PATH + '/src/visualization')"
   ]
  },
  {
   "cell_type": "code",
   "execution_count": 5,
   "metadata": {},
   "outputs": [],
   "source": [
    "import etl\n",
    "import processing\n",
    "import viz"
   ]
  },
  {
   "cell_type": "markdown",
   "metadata": {},
   "source": [
    "## Reading in of Data"
   ]
  },
  {
   "cell_type": "code",
   "execution_count": 6,
   "metadata": {},
   "outputs": [],
   "source": [
    "all_draft = processing.combine_and_clean_all_drafts()"
   ]
  },
  {
   "cell_type": "code",
   "execution_count": 7,
   "metadata": {},
   "outputs": [],
   "source": [
    "curr_execs = processing.combine_drafts_and_executives()"
   ]
  },
  {
   "cell_type": "code",
   "execution_count": 8,
   "metadata": {},
   "outputs": [
    {
     "data": {
      "text/html": [
       "<div>\n",
       "<style scoped>\n",
       "    .dataframe tbody tr th:only-of-type {\n",
       "        vertical-align: middle;\n",
       "    }\n",
       "\n",
       "    .dataframe tbody tr th {\n",
       "        vertical-align: top;\n",
       "    }\n",
       "\n",
       "    .dataframe thead th {\n",
       "        text-align: right;\n",
       "    }\n",
       "</style>\n",
       "<table border=\"1\" class=\"dataframe\">\n",
       "  <thead>\n",
       "    <tr style=\"text-align: right;\">\n",
       "      <th></th>\n",
       "      <th>GM</th>\n",
       "      <th>YEAR</th>\n",
       "      <th>Rnd</th>\n",
       "      <th>Pick</th>\n",
       "      <th>Tm</th>\n",
       "      <th>Player</th>\n",
       "      <th>Pos</th>\n",
       "      <th>Age</th>\n",
       "      <th>Played To</th>\n",
       "      <th>AP1</th>\n",
       "      <th>...</th>\n",
       "      <th>Sk</th>\n",
       "      <th>College/Univ</th>\n",
       "      <th>Ht</th>\n",
       "      <th>Wt</th>\n",
       "      <th>40yd</th>\n",
       "      <th>Vertical</th>\n",
       "      <th>Bench</th>\n",
       "      <th>Broad Jump</th>\n",
       "      <th>3Cone</th>\n",
       "      <th>Shuttle</th>\n",
       "    </tr>\n",
       "  </thead>\n",
       "  <tbody>\n",
       "    <tr>\n",
       "      <td>0</td>\n",
       "      <td>Les Snead</td>\n",
       "      <td>2012</td>\n",
       "      <td>1</td>\n",
       "      <td>14</td>\n",
       "      <td>Rams</td>\n",
       "      <td>Michael Brockers</td>\n",
       "      <td>DT</td>\n",
       "      <td>21.0</td>\n",
       "      <td>2019.0</td>\n",
       "      <td>0</td>\n",
       "      <td>...</td>\n",
       "      <td>23.0</td>\n",
       "      <td>LSU</td>\n",
       "      <td>77.0</td>\n",
       "      <td>322.0</td>\n",
       "      <td>5.31</td>\n",
       "      <td>26.5</td>\n",
       "      <td>NaN</td>\n",
       "      <td>105.0</td>\n",
       "      <td>7.46</td>\n",
       "      <td>4.81</td>\n",
       "    </tr>\n",
       "    <tr>\n",
       "      <td>1</td>\n",
       "      <td>Les Snead</td>\n",
       "      <td>2012</td>\n",
       "      <td>2</td>\n",
       "      <td>33</td>\n",
       "      <td>Rams</td>\n",
       "      <td>Brian Quick</td>\n",
       "      <td>WR</td>\n",
       "      <td>23.0</td>\n",
       "      <td>2018.0</td>\n",
       "      <td>0</td>\n",
       "      <td>...</td>\n",
       "      <td>0.0</td>\n",
       "      <td>Appalachian State</td>\n",
       "      <td>75.0</td>\n",
       "      <td>220.0</td>\n",
       "      <td>4.50</td>\n",
       "      <td>34.0</td>\n",
       "      <td>15.0</td>\n",
       "      <td>119.0</td>\n",
       "      <td>7.10</td>\n",
       "      <td>4.23</td>\n",
       "    </tr>\n",
       "    <tr>\n",
       "      <td>2</td>\n",
       "      <td>Les Snead</td>\n",
       "      <td>2012</td>\n",
       "      <td>2</td>\n",
       "      <td>39</td>\n",
       "      <td>Rams</td>\n",
       "      <td>Janoris Jenkins</td>\n",
       "      <td>DB</td>\n",
       "      <td>23.0</td>\n",
       "      <td>2019.0</td>\n",
       "      <td>0</td>\n",
       "      <td>...</td>\n",
       "      <td>2.0</td>\n",
       "      <td>North Alabama</td>\n",
       "      <td>NaN</td>\n",
       "      <td>NaN</td>\n",
       "      <td>NaN</td>\n",
       "      <td>NaN</td>\n",
       "      <td>NaN</td>\n",
       "      <td>NaN</td>\n",
       "      <td>NaN</td>\n",
       "      <td>NaN</td>\n",
       "    </tr>\n",
       "    <tr>\n",
       "      <td>3</td>\n",
       "      <td>Les Snead</td>\n",
       "      <td>2012</td>\n",
       "      <td>2</td>\n",
       "      <td>50</td>\n",
       "      <td>Rams</td>\n",
       "      <td>Isaiah Pead</td>\n",
       "      <td>RB</td>\n",
       "      <td>22.0</td>\n",
       "      <td>2016.0</td>\n",
       "      <td>0</td>\n",
       "      <td>...</td>\n",
       "      <td>0.0</td>\n",
       "      <td>Cincinnati</td>\n",
       "      <td>70.0</td>\n",
       "      <td>197.0</td>\n",
       "      <td>4.39</td>\n",
       "      <td>33.0</td>\n",
       "      <td>NaN</td>\n",
       "      <td>116.0</td>\n",
       "      <td>6.95</td>\n",
       "      <td>4.32</td>\n",
       "    </tr>\n",
       "    <tr>\n",
       "      <td>4</td>\n",
       "      <td>Les Snead</td>\n",
       "      <td>2012</td>\n",
       "      <td>3</td>\n",
       "      <td>65</td>\n",
       "      <td>Rams</td>\n",
       "      <td>Trumaine Johnson</td>\n",
       "      <td>DB</td>\n",
       "      <td>22.0</td>\n",
       "      <td>2019.0</td>\n",
       "      <td>0</td>\n",
       "      <td>...</td>\n",
       "      <td>0.0</td>\n",
       "      <td>Montana</td>\n",
       "      <td>74.0</td>\n",
       "      <td>204.0</td>\n",
       "      <td>4.50</td>\n",
       "      <td>35.5</td>\n",
       "      <td>19.0</td>\n",
       "      <td>122.0</td>\n",
       "      <td>7.20</td>\n",
       "      <td>4.15</td>\n",
       "    </tr>\n",
       "  </tbody>\n",
       "</table>\n",
       "<p>5 rows × 36 columns</p>\n",
       "</div>"
      ],
      "text/plain": [
       "          GM  YEAR  Rnd  Pick    Tm            Player Pos   Age  Played To  \\\n",
       "0  Les Snead  2012    1    14  Rams  Michael Brockers  DT  21.0     2019.0   \n",
       "1  Les Snead  2012    2    33  Rams       Brian Quick  WR  23.0     2018.0   \n",
       "2  Les Snead  2012    2    39  Rams   Janoris Jenkins  DB  23.0     2019.0   \n",
       "3  Les Snead  2012    2    50  Rams       Isaiah Pead  RB  22.0     2016.0   \n",
       "4  Les Snead  2012    3    65  Rams  Trumaine Johnson  DB  22.0     2019.0   \n",
       "\n",
       "   AP1  ...    Sk       College/Univ    Ht     Wt  40yd  Vertical  Bench  \\\n",
       "0    0  ...  23.0                LSU  77.0  322.0  5.31      26.5    NaN   \n",
       "1    0  ...   0.0  Appalachian State  75.0  220.0  4.50      34.0   15.0   \n",
       "2    0  ...   2.0      North Alabama   NaN    NaN   NaN       NaN    NaN   \n",
       "3    0  ...   0.0         Cincinnati  70.0  197.0  4.39      33.0    NaN   \n",
       "4    0  ...   0.0            Montana  74.0  204.0  4.50      35.5   19.0   \n",
       "\n",
       "   Broad Jump  3Cone  Shuttle  \n",
       "0       105.0   7.46     4.81  \n",
       "1       119.0   7.10     4.23  \n",
       "2         NaN    NaN      NaN  \n",
       "3       116.0   6.95     4.32  \n",
       "4       122.0   7.20     4.15  \n",
       "\n",
       "[5 rows x 36 columns]"
      ]
     },
     "execution_count": 8,
     "metadata": {},
     "output_type": "execute_result"
    }
   ],
   "source": [
    "curr_execs.head()"
   ]
  },
  {
   "cell_type": "markdown",
   "metadata": {},
   "source": [
    "## Rick Spielman"
   ]
  },
  {
   "cell_type": "code",
   "execution_count": 9,
   "metadata": {
    "scrolled": false
   },
   "outputs": [
    {
     "data": {
      "text/html": [
       "<div>\n",
       "<style scoped>\n",
       "    .dataframe tbody tr th:only-of-type {\n",
       "        vertical-align: middle;\n",
       "    }\n",
       "\n",
       "    .dataframe tbody tr th {\n",
       "        vertical-align: top;\n",
       "    }\n",
       "\n",
       "    .dataframe thead th {\n",
       "        text-align: right;\n",
       "    }\n",
       "</style>\n",
       "<table border=\"1\" class=\"dataframe\">\n",
       "  <thead>\n",
       "    <tr style=\"text-align: right;\">\n",
       "      <th></th>\n",
       "      <th>GM</th>\n",
       "      <th>YEAR</th>\n",
       "      <th>Rnd</th>\n",
       "      <th>Pick</th>\n",
       "      <th>Tm</th>\n",
       "      <th>Player</th>\n",
       "      <th>Pos</th>\n",
       "      <th>Age</th>\n",
       "      <th>Played To</th>\n",
       "      <th>AP1</th>\n",
       "      <th>...</th>\n",
       "      <th>Sk</th>\n",
       "      <th>College/Univ</th>\n",
       "      <th>Ht</th>\n",
       "      <th>Wt</th>\n",
       "      <th>40yd</th>\n",
       "      <th>Vertical</th>\n",
       "      <th>Bench</th>\n",
       "      <th>Broad Jump</th>\n",
       "      <th>3Cone</th>\n",
       "      <th>Shuttle</th>\n",
       "    </tr>\n",
       "  </thead>\n",
       "  <tbody>\n",
       "    <tr>\n",
       "      <td>0</td>\n",
       "      <td>Rick Spielman</td>\n",
       "      <td>2010</td>\n",
       "      <td>2</td>\n",
       "      <td>34</td>\n",
       "      <td>Vikings</td>\n",
       "      <td>Chris Cook</td>\n",
       "      <td>DB</td>\n",
       "      <td>23.0</td>\n",
       "      <td>2014.0</td>\n",
       "      <td>0</td>\n",
       "      <td>...</td>\n",
       "      <td>1.0</td>\n",
       "      <td>Virginia</td>\n",
       "      <td>74.0</td>\n",
       "      <td>212.0</td>\n",
       "      <td>4.45</td>\n",
       "      <td>38.0</td>\n",
       "      <td>7.0</td>\n",
       "      <td>132.0</td>\n",
       "      <td>6.88</td>\n",
       "      <td>4.23</td>\n",
       "    </tr>\n",
       "    <tr>\n",
       "      <td>1</td>\n",
       "      <td>Rick Spielman</td>\n",
       "      <td>2010</td>\n",
       "      <td>2</td>\n",
       "      <td>51</td>\n",
       "      <td>Vikings</td>\n",
       "      <td>Toby Gerhart</td>\n",
       "      <td>RB</td>\n",
       "      <td>23.0</td>\n",
       "      <td>2015.0</td>\n",
       "      <td>0</td>\n",
       "      <td>...</td>\n",
       "      <td>0.0</td>\n",
       "      <td>Stanford</td>\n",
       "      <td>72.0</td>\n",
       "      <td>231.0</td>\n",
       "      <td>4.50</td>\n",
       "      <td>38.0</td>\n",
       "      <td>22.0</td>\n",
       "      <td>118.0</td>\n",
       "      <td>6.94</td>\n",
       "      <td>4.25</td>\n",
       "    </tr>\n",
       "    <tr>\n",
       "      <td>2</td>\n",
       "      <td>Rick Spielman</td>\n",
       "      <td>2010</td>\n",
       "      <td>4</td>\n",
       "      <td>100</td>\n",
       "      <td>Vikings</td>\n",
       "      <td>Everson Griffen</td>\n",
       "      <td>DE</td>\n",
       "      <td>22.0</td>\n",
       "      <td>2019.0</td>\n",
       "      <td>0</td>\n",
       "      <td>...</td>\n",
       "      <td>74.5</td>\n",
       "      <td>USC</td>\n",
       "      <td>75.0</td>\n",
       "      <td>273.0</td>\n",
       "      <td>4.65</td>\n",
       "      <td>NaN</td>\n",
       "      <td>32.0</td>\n",
       "      <td>NaN</td>\n",
       "      <td>NaN</td>\n",
       "      <td>NaN</td>\n",
       "    </tr>\n",
       "    <tr>\n",
       "      <td>3</td>\n",
       "      <td>Rick Spielman</td>\n",
       "      <td>2010</td>\n",
       "      <td>5</td>\n",
       "      <td>161</td>\n",
       "      <td>Vikings</td>\n",
       "      <td>Chris DeGeare</td>\n",
       "      <td>G</td>\n",
       "      <td>23.0</td>\n",
       "      <td>2012.0</td>\n",
       "      <td>0</td>\n",
       "      <td>...</td>\n",
       "      <td>0.0</td>\n",
       "      <td>Wake Forest</td>\n",
       "      <td>76.0</td>\n",
       "      <td>325.0</td>\n",
       "      <td>5.12</td>\n",
       "      <td>32.5</td>\n",
       "      <td>27.0</td>\n",
       "      <td>103.0</td>\n",
       "      <td>7.84</td>\n",
       "      <td>4.90</td>\n",
       "    </tr>\n",
       "    <tr>\n",
       "      <td>4</td>\n",
       "      <td>Rick Spielman</td>\n",
       "      <td>2010</td>\n",
       "      <td>5</td>\n",
       "      <td>167</td>\n",
       "      <td>Vikings</td>\n",
       "      <td>Nate Triplett</td>\n",
       "      <td>LB</td>\n",
       "      <td>23.0</td>\n",
       "      <td>2011.0</td>\n",
       "      <td>0</td>\n",
       "      <td>...</td>\n",
       "      <td>0.0</td>\n",
       "      <td>Minnesota</td>\n",
       "      <td>75.0</td>\n",
       "      <td>250.0</td>\n",
       "      <td>4.70</td>\n",
       "      <td>33.0</td>\n",
       "      <td>20.0</td>\n",
       "      <td>115.0</td>\n",
       "      <td>7.02</td>\n",
       "      <td>4.37</td>\n",
       "    </tr>\n",
       "    <tr>\n",
       "      <td>...</td>\n",
       "      <td>...</td>\n",
       "      <td>...</td>\n",
       "      <td>...</td>\n",
       "      <td>...</td>\n",
       "      <td>...</td>\n",
       "      <td>...</td>\n",
       "      <td>...</td>\n",
       "      <td>...</td>\n",
       "      <td>...</td>\n",
       "      <td>...</td>\n",
       "      <td>...</td>\n",
       "      <td>...</td>\n",
       "      <td>...</td>\n",
       "      <td>...</td>\n",
       "      <td>...</td>\n",
       "      <td>...</td>\n",
       "      <td>...</td>\n",
       "      <td>...</td>\n",
       "      <td>...</td>\n",
       "      <td>...</td>\n",
       "      <td>...</td>\n",
       "    </tr>\n",
       "    <tr>\n",
       "      <td>106</td>\n",
       "      <td>Rick Spielman</td>\n",
       "      <td>2020</td>\n",
       "      <td>6</td>\n",
       "      <td>205</td>\n",
       "      <td>Vikings</td>\n",
       "      <td>Josh Metellus</td>\n",
       "      <td>S</td>\n",
       "      <td>NaN</td>\n",
       "      <td>NaN</td>\n",
       "      <td>0</td>\n",
       "      <td>...</td>\n",
       "      <td>0.0</td>\n",
       "      <td>Michigan</td>\n",
       "      <td>71.0</td>\n",
       "      <td>209.0</td>\n",
       "      <td>4.55</td>\n",
       "      <td>36.5</td>\n",
       "      <td>20.0</td>\n",
       "      <td>124.0</td>\n",
       "      <td>6.94</td>\n",
       "      <td>4.40</td>\n",
       "    </tr>\n",
       "    <tr>\n",
       "      <td>107</td>\n",
       "      <td>Rick Spielman</td>\n",
       "      <td>2020</td>\n",
       "      <td>7</td>\n",
       "      <td>225</td>\n",
       "      <td>Vikings</td>\n",
       "      <td>Kenny Willekes</td>\n",
       "      <td>DE</td>\n",
       "      <td>NaN</td>\n",
       "      <td>NaN</td>\n",
       "      <td>0</td>\n",
       "      <td>...</td>\n",
       "      <td>0.0</td>\n",
       "      <td>Michigan State</td>\n",
       "      <td>75.0</td>\n",
       "      <td>264.0</td>\n",
       "      <td>4.87</td>\n",
       "      <td>32.5</td>\n",
       "      <td>32.0</td>\n",
       "      <td>119.0</td>\n",
       "      <td>7.39</td>\n",
       "      <td>NaN</td>\n",
       "    </tr>\n",
       "    <tr>\n",
       "      <td>108</td>\n",
       "      <td>Rick Spielman</td>\n",
       "      <td>2020</td>\n",
       "      <td>7</td>\n",
       "      <td>244</td>\n",
       "      <td>Vikings</td>\n",
       "      <td>Nate Stanley</td>\n",
       "      <td>QB</td>\n",
       "      <td>NaN</td>\n",
       "      <td>NaN</td>\n",
       "      <td>0</td>\n",
       "      <td>...</td>\n",
       "      <td>0.0</td>\n",
       "      <td>Iowa</td>\n",
       "      <td>76.0</td>\n",
       "      <td>235.0</td>\n",
       "      <td>4.81</td>\n",
       "      <td>28.5</td>\n",
       "      <td>NaN</td>\n",
       "      <td>108.0</td>\n",
       "      <td>7.26</td>\n",
       "      <td>4.48</td>\n",
       "    </tr>\n",
       "    <tr>\n",
       "      <td>109</td>\n",
       "      <td>Rick Spielman</td>\n",
       "      <td>2020</td>\n",
       "      <td>7</td>\n",
       "      <td>249</td>\n",
       "      <td>Vikings</td>\n",
       "      <td>Brian Cole II</td>\n",
       "      <td>S</td>\n",
       "      <td>NaN</td>\n",
       "      <td>NaN</td>\n",
       "      <td>0</td>\n",
       "      <td>...</td>\n",
       "      <td>0.0</td>\n",
       "      <td>Mississippi State</td>\n",
       "      <td>74.0</td>\n",
       "      <td>213.0</td>\n",
       "      <td>4.52</td>\n",
       "      <td>NaN</td>\n",
       "      <td>NaN</td>\n",
       "      <td>NaN</td>\n",
       "      <td>NaN</td>\n",
       "      <td>NaN</td>\n",
       "    </tr>\n",
       "    <tr>\n",
       "      <td>110</td>\n",
       "      <td>Rick Spielman</td>\n",
       "      <td>2020</td>\n",
       "      <td>7</td>\n",
       "      <td>253</td>\n",
       "      <td>Vikings</td>\n",
       "      <td>Kyle Hinton</td>\n",
       "      <td>G</td>\n",
       "      <td>NaN</td>\n",
       "      <td>NaN</td>\n",
       "      <td>0</td>\n",
       "      <td>...</td>\n",
       "      <td>0.0</td>\n",
       "      <td>Washburn</td>\n",
       "      <td>NaN</td>\n",
       "      <td>NaN</td>\n",
       "      <td>NaN</td>\n",
       "      <td>NaN</td>\n",
       "      <td>NaN</td>\n",
       "      <td>NaN</td>\n",
       "      <td>NaN</td>\n",
       "      <td>NaN</td>\n",
       "    </tr>\n",
       "  </tbody>\n",
       "</table>\n",
       "<p>111 rows × 36 columns</p>\n",
       "</div>"
      ],
      "text/plain": [
       "                GM  YEAR  Rnd  Pick       Tm           Player Pos   Age  \\\n",
       "0    Rick Spielman  2010    2    34  Vikings       Chris Cook  DB  23.0   \n",
       "1    Rick Spielman  2010    2    51  Vikings     Toby Gerhart  RB  23.0   \n",
       "2    Rick Spielman  2010    4   100  Vikings  Everson Griffen  DE  22.0   \n",
       "3    Rick Spielman  2010    5   161  Vikings    Chris DeGeare   G  23.0   \n",
       "4    Rick Spielman  2010    5   167  Vikings    Nate Triplett  LB  23.0   \n",
       "..             ...   ...  ...   ...      ...              ...  ..   ...   \n",
       "106  Rick Spielman  2020    6   205  Vikings    Josh Metellus   S   NaN   \n",
       "107  Rick Spielman  2020    7   225  Vikings   Kenny Willekes  DE   NaN   \n",
       "108  Rick Spielman  2020    7   244  Vikings     Nate Stanley  QB   NaN   \n",
       "109  Rick Spielman  2020    7   249  Vikings    Brian Cole II   S   NaN   \n",
       "110  Rick Spielman  2020    7   253  Vikings      Kyle Hinton   G   NaN   \n",
       "\n",
       "     Played To  AP1  ...    Sk       College/Univ    Ht     Wt  40yd  \\\n",
       "0       2014.0    0  ...   1.0           Virginia  74.0  212.0  4.45   \n",
       "1       2015.0    0  ...   0.0           Stanford  72.0  231.0  4.50   \n",
       "2       2019.0    0  ...  74.5                USC  75.0  273.0  4.65   \n",
       "3       2012.0    0  ...   0.0        Wake Forest  76.0  325.0  5.12   \n",
       "4       2011.0    0  ...   0.0          Minnesota  75.0  250.0  4.70   \n",
       "..         ...  ...  ...   ...                ...   ...    ...   ...   \n",
       "106        NaN    0  ...   0.0           Michigan  71.0  209.0  4.55   \n",
       "107        NaN    0  ...   0.0     Michigan State  75.0  264.0  4.87   \n",
       "108        NaN    0  ...   0.0               Iowa  76.0  235.0  4.81   \n",
       "109        NaN    0  ...   0.0  Mississippi State  74.0  213.0  4.52   \n",
       "110        NaN    0  ...   0.0           Washburn   NaN    NaN   NaN   \n",
       "\n",
       "     Vertical  Bench  Broad Jump  3Cone  Shuttle  \n",
       "0        38.0    7.0       132.0   6.88     4.23  \n",
       "1        38.0   22.0       118.0   6.94     4.25  \n",
       "2         NaN   32.0         NaN    NaN      NaN  \n",
       "3        32.5   27.0       103.0   7.84     4.90  \n",
       "4        33.0   20.0       115.0   7.02     4.37  \n",
       "..        ...    ...         ...    ...      ...  \n",
       "106      36.5   20.0       124.0   6.94     4.40  \n",
       "107      32.5   32.0       119.0   7.39      NaN  \n",
       "108      28.5    NaN       108.0   7.26     4.48  \n",
       "109       NaN    NaN         NaN    NaN      NaN  \n",
       "110       NaN    NaN         NaN    NaN      NaN  \n",
       "\n",
       "[111 rows x 36 columns]"
      ]
     },
     "execution_count": 9,
     "metadata": {},
     "output_type": "execute_result"
    }
   ],
   "source": [
    "rick_spielman = curr_execs[curr_execs['GM'] == 'Rick Spielman'].reset_index(drop = True)\n",
    "rick_spielman"
   ]
  },
  {
   "cell_type": "markdown",
   "metadata": {},
   "source": [
    "## Picks by Round"
   ]
  },
  {
   "cell_type": "code",
   "execution_count": 10,
   "metadata": {},
   "outputs": [
    {
     "data": {
      "image/png": "[encoded data removed]",
      "text/plain": [
       "<Figure size 432x288 with 1 Axes>"
      ]
     },
     "metadata": {
      "needs_background": "light"
     },
     "output_type": "display_data"
    }
   ],
   "source": [
    "viz.picks_by_round()"
   ]
  },
  {
   "cell_type": "code",
   "execution_count": 11,
   "metadata": {
    "scrolled": false
   },
   "outputs": [
    {
     "data": {
      "image/png": "[encoded data removed]",
      "text/plain": [
       "<Figure size 432x288 with 1 Axes>"
      ]
     },
     "metadata": {
      "needs_background": "light"
     },
     "output_type": "display_data"
    }
   ],
   "source": [
    "viz.picks_by_round('Rick Spielman')"
   ]
  },
  {
   "cell_type": "markdown",
   "metadata": {},
   "source": [
    "## Picks by Position"
   ]
  },
  {
   "cell_type": "code",
   "execution_count": 12,
   "metadata": {},
   "outputs": [
    {
     "data": {
      "image/png": "[encoded data removed]",
      "text/plain": [
       "<Figure size 432x288 with 1 Axes>"
      ]
     },
     "metadata": {
      "needs_background": "light"
     },
     "output_type": "display_data"
    }
   ],
   "source": [
    "viz.picks_by_position()"
   ]
  },
  {
   "cell_type": "code",
   "execution_count": 13,
   "metadata": {},
   "outputs": [
    {
     "data": {
      "image/png": "[encoded data removed]",
      "text/plain": [
       "<Figure size 432x288 with 1 Axes>"
      ]
     },
     "metadata": {
      "needs_background": "light"
     },
     "output_type": "display_data"
    }
   ],
   "source": [
    "viz.picks_by_position('Rick Spielman')"
   ]
  },
  {
   "cell_type": "markdown",
   "metadata": {},
   "source": [
    "## Picks by Year"
   ]
  },
  {
   "cell_type": "code",
   "execution_count": 14,
   "metadata": {
    "scrolled": true
   },
   "outputs": [
    {
     "data": {
      "image/png": "[encoded data removed]",
      "text/plain": [
       "<Figure size 432x288 with 1 Axes>"
      ]
     },
     "metadata": {
      "needs_background": "light"
     },
     "output_type": "display_data"
    }
   ],
   "source": [
    "viz.picks_by_year('Rick Spielman')"
   ]
  },
  {
   "cell_type": "markdown",
   "metadata": {},
   "source": [
    "## Picks by Age"
   ]
  },
  {
   "cell_type": "code",
   "execution_count": 15,
   "metadata": {},
   "outputs": [
    {
     "data": {
      "image/png": "[encoded data removed]",
      "text/plain": [
       "<Figure size 432x288 with 1 Axes>"
      ]
     },
     "metadata": {
      "needs_background": "light"
     },
     "output_type": "display_data"
    }
   ],
   "source": [
    "viz.picks_by_age()"
   ]
  },
  {
   "cell_type": "code",
   "execution_count": 16,
   "metadata": {
    "scrolled": true
   },
   "outputs": [
    {
     "data": {
      "image/png": "[encoded data removed]",
      "text/plain": [
       "<Figure size 432x288 with 1 Axes>"
      ]
     },
     "metadata": {
      "needs_background": "light"
     },
     "output_type": "display_data"
    }
   ],
   "source": [
    "viz.picks_by_age('Rick Spielman')"
   ]
  },
  {
   "cell_type": "markdown",
   "metadata": {},
   "source": [
    "## 40 Times by Position"
   ]
  },
  {
   "cell_type": "code",
   "execution_count": 29,
   "metadata": {},
   "outputs": [
    {
     "data": {
      "image/png": "[encoded data removed]",
      "text/plain": [
       "<Figure size 432x288 with 1 Axes>"
      ]
     },
     "metadata": {
      "needs_background": "light"
     },
     "output_type": "display_data"
    }
   ],
   "source": [
    "viz.forty_by_pos()"
   ]
  },
  {
   "cell_type": "code",
   "execution_count": 30,
   "metadata": {},
   "outputs": [
    {
     "data": {
      "image/png": "[encoded data removed]",
      "text/plain": [
       "<Figure size 432x288 with 1 Axes>"
      ]
     },
     "metadata": {
      "needs_background": "light"
     },
     "output_type": "display_data"
    }
   ],
   "source": [
    "viz.forty_by_pos('Rick Spielman')"
   ]
  },
  {
   "cell_type": "code",
   "execution_count": null,
   "metadata": {},
   "outputs": [],
   "source": []
  }
 ],
 "metadata": {
  "kernelspec": {
   "display_name": "Python 3",
   "language": "python",
   "name": "python3"
  },
  "language_info": {
   "codemirror_mode": {
    "name": "ipython",
    "version": 3
   },
   "file_extension": ".py",
   "mimetype": "text/x-python",
   "name": "python",
   "nbconvert_exporter": "python",
   "pygments_lexer": "ipython3",
   "version": "3.7.4"
  }
 },
 "nbformat": 4,
 "nbformat_minor": 2
}
